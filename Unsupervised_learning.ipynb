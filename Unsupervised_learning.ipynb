{
 "cells": [
  {
   "cell_type": "code",
   "execution_count": 1,
   "id": "fcc54942-ece9-45e0-9f7d-88b8b8febcb3",
   "metadata": {},
   "outputs": [],
   "source": [
    "import pandas as pd\n",
    "from sklearn.datasets import load_iris\n",
    "\n",
    "iris_data = load_iris()"
   ]
  },
  {
   "cell_type": "code",
   "execution_count": 2,
   "id": "600dee78-cd60-4f0b-8d65-ac500f804dda",
   "metadata": {},
   "outputs": [],
   "source": [
    "features = pd.DataFrame(iris_data.data, columns = iris_data.feature_names)\n",
    "target = pd.Series(iris_data.target)"
   ]
  },
  {
   "cell_type": "code",
   "execution_count": 3,
   "id": "bb4e4676-29c6-4773-ac9b-0a0320cbd5df",
   "metadata": {},
   "outputs": [],
   "source": [
    "from sklearn.tree import DecisionTreeClassifier\n",
    "model = DecisionTreeClassifier()"
   ]
  },
  {
   "cell_type": "code",
   "execution_count": 8,
   "id": "10653246-d8aa-4d70-855d-c3e61c5268a4",
   "metadata": {},
   "outputs": [
    {
     "name": "stdout",
     "output_type": "stream",
     "text": [
      "Training score:  1.0\n"
     ]
    }
   ],
   "source": [
    "# train the model\n",
    "train_size = int(0.90 * len(features))\n",
    "train_features = features[:train_size]\n",
    "train_target = target[:train_size]\n",
    "model.fit(train_features, train_target)\n",
    "print(\"Training score: \", model.score(train_features, train_target))"
   ]
  },
  {
   "cell_type": "code",
   "execution_count": 9,
   "id": "292521c4-13f4-4e9d-b83b-bca2b3c8fe2a",
   "metadata": {},
   "outputs": [
    {
     "name": "stdout",
     "output_type": "stream",
     "text": [
      "Testing score:  1.0\n"
     ]
    }
   ],
   "source": [
    "# test the model\n",
    "test_features = features[train_size:]\n",
    "test_target = target[train_size:]\n",
    "predicted_target = model.predict(test_features)\n",
    "print(\"Testing score: \", model.score(test_features, test_target))"
   ]
  },
  {
   "cell_type": "code",
   "execution_count": null,
   "id": "88598d12-f190-4faf-9253-15fb45f79892",
   "metadata": {},
   "outputs": [],
   "source": []
  }
 ],
 "metadata": {
  "kernelspec": {
   "display_name": "Python 3 [3.10]",
   "language": "python",
   "name": "python3"
  },
  "language_info": {
   "codemirror_mode": {
    "name": "ipython",
    "version": 3
   },
   "file_extension": ".py",
   "mimetype": "text/x-python",
   "name": "python",
   "nbconvert_exporter": "python",
   "pygments_lexer": "ipython3",
   "version": "3.10.2"
  }
 },
 "nbformat": 4,
 "nbformat_minor": 5
}
